{
 "cells": [
  {
   "cell_type": "code",
   "execution_count": 1,
   "id": "84fce42a",
   "metadata": {},
   "outputs": [],
   "source": [
    "import numpy as np\n",
    "import matplotlib.pyplot as plt\n",
    "import pandas as pd\n",
    "import seaborn as sns\n",
    "from sklearn.tree import DecisionTreeClassifier\n",
    "from sklearn.datasets import load_iris\n",
    "from sklearn.model_selection import train_test_split\n",
    "from sklearn.neighbors import KNeighborsClassifier\n",
    "from mlxtend.feature_selection import SequentialFeatureSelector as SFS\n"
   ]
  },
  {
   "cell_type": "code",
   "execution_count": 2,
   "id": "6b36159e",
   "metadata": {},
   "outputs": [],
   "source": [
    "df_old = pd.read_excel('Train Data V3.xlsx', sheet_name = 'New train data')\n"
   ]
  },
  {
   "cell_type": "code",
   "execution_count": 3,
   "id": "08fb4b2e",
   "metadata": {},
   "outputs": [
    {
     "data": {
      "text/html": [
       "<div>\n",
       "<style scoped>\n",
       "    .dataframe tbody tr th:only-of-type {\n",
       "        vertical-align: middle;\n",
       "    }\n",
       "\n",
       "    .dataframe tbody tr th {\n",
       "        vertical-align: top;\n",
       "    }\n",
       "\n",
       "    .dataframe thead th {\n",
       "        text-align: right;\n",
       "    }\n",
       "</style>\n",
       "<table border=\"1\" class=\"dataframe\">\n",
       "  <thead>\n",
       "    <tr style=\"text-align: right;\">\n",
       "      <th></th>\n",
       "      <th>policy_tenure</th>\n",
       "      <th>age_of_car</th>\n",
       "      <th>age_of_policyholder</th>\n",
       "      <th>population_density</th>\n",
       "      <th>is_esc</th>\n",
       "      <th>is_adjustable_steering</th>\n",
       "      <th>is_tpms</th>\n",
       "      <th>is_parking_sensors</th>\n",
       "      <th>is_parking_camera</th>\n",
       "      <th>rear_brakes_type</th>\n",
       "      <th>...</th>\n",
       "      <th>new_segment</th>\n",
       "      <th>new_model</th>\n",
       "      <th>new_fuel_type</th>\n",
       "      <th>new_max_torque</th>\n",
       "      <th>new_max_power</th>\n",
       "      <th>new_engine_type</th>\n",
       "      <th>new_airbags</th>\n",
       "      <th>new_steering_type</th>\n",
       "      <th>new_ncap_rating</th>\n",
       "      <th>is_claim</th>\n",
       "    </tr>\n",
       "  </thead>\n",
       "  <tbody>\n",
       "    <tr>\n",
       "      <th>0</th>\n",
       "      <td>0.515874</td>\n",
       "      <td>0.05</td>\n",
       "      <td>0.644231</td>\n",
       "      <td>4990</td>\n",
       "      <td>False</td>\n",
       "      <td>False</td>\n",
       "      <td>False</td>\n",
       "      <td>True</td>\n",
       "      <td>False</td>\n",
       "      <td>Drum</td>\n",
       "      <td>...</td>\n",
       "      <td>0.944047</td>\n",
       "      <td>0.914072</td>\n",
       "      <td>1</td>\n",
       "      <td>0.958852</td>\n",
       "      <td>0.958852</td>\n",
       "      <td>0.958852</td>\n",
       "      <td>0</td>\n",
       "      <td>0</td>\n",
       "      <td>0.976548</td>\n",
       "      <td>0</td>\n",
       "    </tr>\n",
       "    <tr>\n",
       "      <th>1</th>\n",
       "      <td>0.672619</td>\n",
       "      <td>0.02</td>\n",
       "      <td>0.375000</td>\n",
       "      <td>27003</td>\n",
       "      <td>False</td>\n",
       "      <td>False</td>\n",
       "      <td>False</td>\n",
       "      <td>True</td>\n",
       "      <td>False</td>\n",
       "      <td>Drum</td>\n",
       "      <td>...</td>\n",
       "      <td>0.944047</td>\n",
       "      <td>0.914072</td>\n",
       "      <td>1</td>\n",
       "      <td>0.958852</td>\n",
       "      <td>0.958852</td>\n",
       "      <td>0.958852</td>\n",
       "      <td>0</td>\n",
       "      <td>0</td>\n",
       "      <td>0.976548</td>\n",
       "      <td>0</td>\n",
       "    </tr>\n",
       "    <tr>\n",
       "      <th>2</th>\n",
       "      <td>0.841110</td>\n",
       "      <td>0.02</td>\n",
       "      <td>0.384615</td>\n",
       "      <td>4076</td>\n",
       "      <td>False</td>\n",
       "      <td>False</td>\n",
       "      <td>False</td>\n",
       "      <td>True</td>\n",
       "      <td>False</td>\n",
       "      <td>Drum</td>\n",
       "      <td>...</td>\n",
       "      <td>0.944047</td>\n",
       "      <td>0.914072</td>\n",
       "      <td>1</td>\n",
       "      <td>0.958852</td>\n",
       "      <td>0.958852</td>\n",
       "      <td>0.958852</td>\n",
       "      <td>0</td>\n",
       "      <td>0</td>\n",
       "      <td>0.976548</td>\n",
       "      <td>0</td>\n",
       "    </tr>\n",
       "    <tr>\n",
       "      <th>3</th>\n",
       "      <td>0.900277</td>\n",
       "      <td>0.11</td>\n",
       "      <td>0.432692</td>\n",
       "      <td>21622</td>\n",
       "      <td>True</td>\n",
       "      <td>True</td>\n",
       "      <td>False</td>\n",
       "      <td>True</td>\n",
       "      <td>True</td>\n",
       "      <td>Drum</td>\n",
       "      <td>...</td>\n",
       "      <td>1.004240</td>\n",
       "      <td>1.144153</td>\n",
       "      <td>0</td>\n",
       "      <td>1.076906</td>\n",
       "      <td>1.076906</td>\n",
       "      <td>1.144153</td>\n",
       "      <td>0</td>\n",
       "      <td>1</td>\n",
       "      <td>1.018415</td>\n",
       "      <td>0</td>\n",
       "    </tr>\n",
       "    <tr>\n",
       "      <th>4</th>\n",
       "      <td>0.596403</td>\n",
       "      <td>0.11</td>\n",
       "      <td>0.634615</td>\n",
       "      <td>34738</td>\n",
       "      <td>False</td>\n",
       "      <td>False</td>\n",
       "      <td>False</td>\n",
       "      <td>False</td>\n",
       "      <td>True</td>\n",
       "      <td>Drum</td>\n",
       "      <td>...</td>\n",
       "      <td>0.944047</td>\n",
       "      <td>0.888394</td>\n",
       "      <td>0</td>\n",
       "      <td>0.817069</td>\n",
       "      <td>0.817069</td>\n",
       "      <td>0.817069</td>\n",
       "      <td>0</td>\n",
       "      <td>1</td>\n",
       "      <td>1.018415</td>\n",
       "      <td>0</td>\n",
       "    </tr>\n",
       "  </tbody>\n",
       "</table>\n",
       "<p>5 rows × 43 columns</p>\n",
       "</div>"
      ],
      "text/plain": [
       "   policy_tenure  age_of_car  age_of_policyholder  population_density  is_esc  \\\n",
       "0       0.515874        0.05             0.644231                4990   False   \n",
       "1       0.672619        0.02             0.375000               27003   False   \n",
       "2       0.841110        0.02             0.384615                4076   False   \n",
       "3       0.900277        0.11             0.432692               21622    True   \n",
       "4       0.596403        0.11             0.634615               34738   False   \n",
       "\n",
       "   is_adjustable_steering  is_tpms  is_parking_sensors  is_parking_camera  \\\n",
       "0                   False    False                True              False   \n",
       "1                   False    False                True              False   \n",
       "2                   False    False                True              False   \n",
       "3                    True    False                True               True   \n",
       "4                   False    False               False               True   \n",
       "\n",
       "  rear_brakes_type  ...  new_segment  new_model new_fuel_type  new_max_torque  \\\n",
       "0             Drum  ...     0.944047   0.914072             1        0.958852   \n",
       "1             Drum  ...     0.944047   0.914072             1        0.958852   \n",
       "2             Drum  ...     0.944047   0.914072             1        0.958852   \n",
       "3             Drum  ...     1.004240   1.144153             0        1.076906   \n",
       "4             Drum  ...     0.944047   0.888394             0        0.817069   \n",
       "\n",
       "   new_max_power  new_engine_type  new_airbags  new_steering_type  \\\n",
       "0       0.958852         0.958852            0                  0   \n",
       "1       0.958852         0.958852            0                  0   \n",
       "2       0.958852         0.958852            0                  0   \n",
       "3       1.076906         1.144153            0                  1   \n",
       "4       0.817069         0.817069            0                  1   \n",
       "\n",
       "   new_ncap_rating  is_claim  \n",
       "0         0.976548         0  \n",
       "1         0.976548         0  \n",
       "2         0.976548         0  \n",
       "3         1.018415         0  \n",
       "4         1.018415         0  \n",
       "\n",
       "[5 rows x 43 columns]"
      ]
     },
     "execution_count": 3,
     "metadata": {},
     "output_type": "execute_result"
    }
   ],
   "source": [
    "df_old = df_old.replace({ \"No\" : False , \"Yes\" : True })\n",
    "df_old.drop(columns = \"policy_id\", inplace = True)\n",
    "df_old.head()"
   ]
  },
  {
   "cell_type": "code",
   "execution_count": 4,
   "id": "127936a0",
   "metadata": {},
   "outputs": [],
   "source": [
    "df = df_old.drop(['is_rear_window_washer','is_power_door_locks','is_parking_sensors','new_max_torque', 'new_airbags', 'is_central_locking', 'is_driver_seat_height_adjustable', 'gear_box', 'new_max_power', 'length', 'is_adjustable_steering', 'new_steering_type', 'is_esc'], axis=1)\n",
    "df = df.replace({ \"Disc\" : 0 , \"Drum\" : 1 })\n",
    "df = df.replace({ \"Manual\" : 0 , \"Automatic\" : 1 })\n",
    "\n",
    "#df.dtypes\n"
   ]
  },
  {
   "cell_type": "code",
   "execution_count": 5,
   "id": "c75fc4ea",
   "metadata": {},
   "outputs": [],
   "source": [
    "# Feature Elimination using Random Forest with n_estimation = 100\n",
    "# Yellowbrick documentation https://www.scikit-yb.org/en/latest/quickstart.html\n",
    "\n",
    "from sklearn.ensemble import RandomForestClassifier\n",
    "from yellowbrick.model_selection import FeatureImportances\n",
    "from sklearn.feature_selection import SelectFromModel\n",
    "\n",
    "# identify features\n",
    "X_rferf = df[['policy_tenure', 'age_of_car', 'age_of_policyholder', 'population_density', 'is_tpms', 'is_parking_camera', 'rear_brakes_type', 'displacement', 'cylinder',\n",
    "                   'transmission_type', 'turning_radius', 'width', 'height', 'gross_weight', 'is_front_fog_lights','is_rear_window_wiper','is_rear_window_defogger','is_brake_assist','is_power_steering','is_day_night_rear_view_mirror','is_ecw','is_speed_alert','new_area_cluster','new_make','new_segment','new_model','new_fuel_type','new_engine_type','new_ncap_rating']]\n",
    "# identify target\n",
    "Y_rferf = df['is_claim']\n",
    "\n",
    "#model = RandomForestClassifier(n_estimators = 100)\n",
    "#viz = FeatureImportances(model)\n",
    "\n",
    "#viz.fit(X_rferf, Y_rferf)\n",
    "#viz.show()\n",
    "\n",
    "#selected_feat= X_train.columns[(sel.get_support())]\n",
    "\n"
   ]
  },
  {
   "cell_type": "code",
   "execution_count": 9,
   "id": "a12ddd5b",
   "metadata": {},
   "outputs": [
    {
     "data": {
      "text/plain": [
       "new_ncap_rating                  100.000000\n",
       "new_engine_type                   52.619477\n",
       "new_fuel_type                     30.882199\n",
       "new_model                         13.457535\n",
       "new_segment                        4.443192\n",
       "new_make                           0.237994\n",
       "new_area_cluster                   0.195836\n",
       "is_speed_alert                     0.188048\n",
       "is_ecw                             0.185379\n",
       "is_day_night_rear_view_mirror      0.183590\n",
       "is_power_steering                  0.157020\n",
       "is_brake_assist                    0.141533\n",
       "is_rear_window_defogger            0.116432\n",
       "is_rear_window_wiper               0.114007\n",
       "is_front_fog_lights                0.072139\n",
       "gross_weight                       0.069543\n",
       "height                             0.065030\n",
       "width                              0.059687\n",
       "turning_radius                     0.058926\n",
       "transmission_type                  0.058704\n",
       "cylinder                           0.054996\n",
       "displacement                       0.053040\n",
       "rear_brakes_type                   0.048622\n",
       "is_parking_camera                  0.035330\n",
       "is_tpms                            0.029901\n",
       "population_density                 0.028325\n",
       "age_of_policyholder                0.017378\n",
       "age_of_car                         0.016674\n",
       "policy_tenure                      0.014308\n",
       "dtype: float64"
      ]
     },
     "execution_count": 9,
     "metadata": {},
     "output_type": "execute_result"
    },
    {
     "data": {
      "image/png": "[encoded data removed]",
      "text/plain": [
       "<Figure size 576x396 with 1 Axes>"
      ]
     },
     "metadata": {},
     "output_type": "display_data"
    }
   ],
   "source": [
    "# Feature Elimination using Random Forest with n_estimation = 250\n",
    "# Yellowbrick documentation https://www.scikit-yb.org/en/latest/quickstart.html\n",
    "\n",
    "from sklearn.ensemble import RandomForestClassifier\n",
    "from yellowbrick.model_selection import FeatureImportances\n",
    "from sklearn.feature_selection import SelectFromModel\n",
    "\n",
    "# identify features\n",
    "X_rferf = df[['policy_tenure', 'age_of_car', 'age_of_policyholder', 'population_density', 'is_tpms', 'is_parking_camera', 'rear_brakes_type', 'displacement', 'cylinder',\n",
    "                   'transmission_type', 'turning_radius', 'width', 'height', 'gross_weight', 'is_front_fog_lights','is_rear_window_wiper','is_rear_window_defogger','is_brake_assist','is_power_steering','is_day_night_rear_view_mirror','is_ecw','is_speed_alert','new_area_cluster','new_make','new_segment','new_model','new_fuel_type','new_engine_type','new_ncap_rating']]\n",
    "# identify target\n",
    "Y_rferf = df['is_claim']\n",
    "\n",
    "model = RandomForestClassifier(n_estimators = 250)\n",
    "viz = FeatureImportances(model)\n",
    "viz.fit(X_rferf, Y_rferf)\n",
    "viz\n",
    "\n",
    "feature_scores = pd.Series(viz.feature_importances_, index=X_rferf.columns).sort_values(ascending=False)\n",
    "\n",
    "feature_scores\n"
   ]
  },
  {
   "cell_type": "code",
   "execution_count": null,
   "id": "b7a296ee",
   "metadata": {},
   "outputs": [],
   "source": []
  },
  {
   "cell_type": "code",
   "execution_count": null,
   "id": "cc27ff45",
   "metadata": {},
   "outputs": [],
   "source": []
  },
  {
   "cell_type": "code",
   "execution_count": null,
   "id": "19fd7e0b",
   "metadata": {},
   "outputs": [],
   "source": []
  },
  {
   "cell_type": "code",
   "execution_count": 6,
   "id": "6aec0eb9",
   "metadata": {},
   "outputs": [
    {
     "data": {
      "text/plain": [
       "new_ncap_rating                  100.000000\n",
       "new_engine_type                   53.003756\n",
       "new_fuel_type                     31.117397\n",
       "new_model                         12.967360\n",
       "new_segment                        4.260921\n",
       "new_make                           0.255215\n",
       "new_area_cluster                   0.200514\n",
       "is_speed_alert                     0.197600\n",
       "is_ecw                             0.192519\n",
       "is_day_night_rear_view_mirror      0.178381\n",
       "is_power_steering                  0.171318\n",
       "is_brake_assist                    0.150170\n",
       "is_rear_window_defogger            0.120178\n",
       "is_rear_window_wiper               0.114711\n",
       "is_front_fog_lights                0.079064\n",
       "gross_weight                       0.070812\n",
       "height                             0.067999\n",
       "width                              0.064039\n",
       "turning_radius                     0.062375\n",
       "transmission_type                  0.062145\n",
       "cylinder                           0.054220\n",
       "displacement                       0.047106\n",
       "rear_brakes_type                   0.045527\n",
       "is_parking_camera                  0.033657\n",
       "is_tpms                            0.028631\n",
       "population_density                 0.025899\n",
       "age_of_policyholder                0.019564\n",
       "age_of_car                         0.019470\n",
       "policy_tenure                      0.014166\n",
       "dtype: float64"
      ]
     },
     "execution_count": 6,
     "metadata": {},
     "output_type": "execute_result"
    },
    {
     "data": {
      "image/png": "[encoded data removed]",
      "text/plain": [
       "<Figure size 576x396 with 1 Axes>"
      ]
     },
     "metadata": {},
     "output_type": "display_data"
    }
   ],
   "source": [
    "# Feature Elimination using Random Forest with n_estimation = 250\n",
    "# Yellowbrick documentation https://www.scikit-yb.org/en/latest/quickstart.html\n",
    "\n",
    "from sklearn.ensemble import RandomForestClassifier\n",
    "from yellowbrick.model_selection import FeatureImportances\n",
    "from sklearn.feature_selection import SelectFromModel\n",
    "\n",
    "# identify features\n",
    "X_rferf = df[['policy_tenure', 'age_of_car', 'age_of_policyholder', 'population_density', 'is_tpms', 'is_parking_camera', 'rear_brakes_type', 'displacement', 'cylinder',\n",
    "                   'transmission_type', 'turning_radius', 'width', 'height', 'gross_weight', 'is_front_fog_lights','is_rear_window_wiper','is_rear_window_defogger','is_brake_assist','is_power_steering','is_day_night_rear_view_mirror','is_ecw','is_speed_alert','new_area_cluster','new_make','new_segment','new_model','new_fuel_type','new_engine_type','new_ncap_rating']]\n",
    "# identify target\n",
    "Y_rferf = df['is_claim']\n",
    "\n",
    "model = RandomForestClassifier(n_estimators = 250)\n",
    "viz = FeatureImportances(model)\n",
    "viz.fit(X_rferf, Y_rferf)\n",
    "#viz\n",
    "\n",
    "feature_scores = pd.Series(viz.feature_importances_, index=X_rferf.columns).sort_values(ascending=False)\n",
    "\n",
    "feature_scores\n"
   ]
  },
  {
   "cell_type": "markdown",
   "id": "48f44cfb",
   "metadata": {},
   "source": [
    "### KNN Classification with 5 neighbours "
   ]
  },
  {
   "cell_type": "code",
   "execution_count": 5,
   "id": "93551343",
   "metadata": {},
   "outputs": [],
   "source": [
    "from sklearn.model_selection import train_test_split\n",
    "from sklearn.ensemble import RandomForestClassifier\n",
    "\n",
    "X_train, X_test, y_train, y_test = train_test_split(df.drop('is_claim', axis = 1), \n",
    "                                                    df.is_claim, test_size=0.001, \n",
    "                                                    random_state=321)\n"
   ]
  },
  {
   "cell_type": "code",
   "execution_count": null,
   "id": "9fca2fd6",
   "metadata": {},
   "outputs": [],
   "source": []
  },
  {
   "cell_type": "code",
   "execution_count": 6,
   "id": "5a530352",
   "metadata": {},
   "outputs": [],
   "source": [
    "# identify features\n",
    "X_sfs = df[['policy_tenure', 'age_of_car', 'age_of_policyholder', 'population_density', 'is_tpms', 'is_parking_camera', 'rear_brakes_type', 'displacement', 'cylinder',\n",
    "                   'transmission_type', 'turning_radius', 'width', 'height', 'gross_weight', 'is_front_fog_lights','is_rear_window_wiper','is_rear_window_defogger','is_brake_assist','is_power_steering','is_day_night_rear_view_mirror','is_ecw','is_speed_alert','new_area_cluster','new_make','new_segment','new_model','new_fuel_type','new_engine_type','new_ncap_rating']]\n",
    "# identify target\n",
    "Y_sfs = df['is_claim']"
   ]
  },
  {
   "cell_type": "code",
   "execution_count": null,
   "id": "899efaf2",
   "metadata": {},
   "outputs": [],
   "source": [
    "knn = KNeighborsClassifier(n_neighbors=5)\n",
    "\n",
    "# Sequential Forward Selection\n",
    "sfs = SFS(knn, \n",
    "          k_features = 15, \n",
    "          forward = True, \n",
    "          floating = False, \n",
    "          scoring = 'accuracy',\n",
    "          cv = 4,\n",
    "          n_jobs = -1)\n",
    "sfs = sfs.fit(X_sfs, Y_sfs)\n",
    "\n",
    "print('\\nSequential Forward Selection (k=8):')\n",
    "print(sfs.k_feature_names_)\n",
    "print('CV Score:')\n",
    "print(sfs.k_score_)"
   ]
  },
  {
   "cell_type": "code",
   "execution_count": null,
   "id": "ab69ecd2",
   "metadata": {},
   "outputs": [],
   "source": []
  },
  {
   "cell_type": "code",
   "execution_count": null,
   "id": "e44f0cae",
   "metadata": {},
   "outputs": [],
   "source": [
    "# Sequential Backward Selection \n",
    "\n",
    "knn = KNeighborsClassifier(n_neighbors=5)\n",
    "\n",
    "sbs = SFS(knn, \n",
    "          k_features = 15, \n",
    "          forward = False, \n",
    "          floating = False, \n",
    "          scoring = 'accuracy',\n",
    "          cv = 4,\n",
    "          n_jobs = -1)\n",
    "sbs = sbs.fit(X_sfs, Y_sfs)\n",
    "\n",
    "print('\\nSequential Backward Selection (k=8):')\n",
    "print(sbs.k_feature_names_)\n",
    "print('CV Score:')\n",
    "print(sbs.k_score_)\n"
   ]
  },
  {
   "cell_type": "markdown",
   "id": "97bff8cd",
   "metadata": {},
   "source": [
    "### KNN Classification with 10 neighbours "
   ]
  },
  {
   "cell_type": "code",
   "execution_count": null,
   "id": "7a1a085f",
   "metadata": {},
   "outputs": [],
   "source": [
    "knn = KNeighborsClassifier(n_neighbors=10)\n",
    "\n",
    "# Sequential Forward Selection\n",
    "sfs = SFS(knn, \n",
    "          k_features = 15, \n",
    "          forward = True, \n",
    "          floating = False, \n",
    "          scoring = 'accuracy',\n",
    "          cv = 4,\n",
    "          n_jobs = -1)\n",
    "sfs = sfs.fit(X_sfs, Y_sfs)\n",
    "\n",
    "print('\\nSequential Forward Selection (k=8):')\n",
    "print(sfs.k_feature_names_)\n",
    "print('CV Score:')\n",
    "print(sfs.k_score_)"
   ]
  },
  {
   "cell_type": "code",
   "execution_count": 7,
   "id": "883aad71",
   "metadata": {
    "scrolled": true
   },
   "outputs": [
    {
     "name": "stdout",
     "output_type": "stream",
     "text": [
      "\n",
      "Sequential Backward Selection (k=15):\n",
      "('policy_tenure', 'age_of_car', 'population_density', 'is_tpms', 'is_parking_camera', 'rear_brakes_type', 'displacement', 'cylinder', 'transmission_type', 'turning_radius', 'width', 'height', 'gross_weight', 'is_front_fog_lights', 'is_rear_window_wiper')\n",
      "CV Score:\n",
      "0.9360492900054616\n"
     ]
    }
   ],
   "source": [
    "# Sequential Backward Selection \n",
    "\n",
    "knn = KNeighborsClassifier(n_neighbors=10)\n",
    "\n",
    "sbs = SFS(knn, \n",
    "          k_features = 15, \n",
    "          forward = False, \n",
    "          floating = False, \n",
    "          scoring = 'accuracy',\n",
    "          cv = 4,\n",
    "          n_jobs = -1)\n",
    "sbs = sbs.fit(X_sfs, Y_sfs)\n",
    "\n",
    "print('\\nSequential Backward Selection (k=15):')\n",
    "print(sbs.k_feature_names_)\n",
    "print('CV Score:')\n",
    "print(sbs.k_score_)\n",
    "\n"
   ]
  },
  {
   "cell_type": "code",
   "execution_count": null,
   "id": "4cbb160b",
   "metadata": {},
   "outputs": [],
   "source": [
    "\n"
   ]
  },
  {
   "cell_type": "markdown",
   "id": "bbed7cb9",
   "metadata": {},
   "source": [
    "### Recursive Feature Elimination using Logistic Regression (Lasso)"
   ]
  },
  {
   "cell_type": "code",
   "execution_count": 7,
   "id": "1da23522",
   "metadata": {},
   "outputs": [],
   "source": [
    "\n",
    "from sklearn.linear_model import LogisticRegression\n",
    "from sklearn.feature_selection import RFE\n",
    "\n",
    "import warnings\n",
    "warnings.simplefilter(action='ignore')\n",
    "\n",
    "# identify features\n",
    "X_rfel = df[['policy_tenure', 'age_of_car', 'age_of_policyholder', 'population_density', 'is_tpms', 'is_parking_camera', 'rear_brakes_type', 'displacement', 'cylinder',\n",
    "                   'transmission_type', 'turning_radius', 'width', 'height', 'gross_weight', 'is_front_fog_lights','is_rear_window_wiper','is_rear_window_defogger','is_brake_assist','is_power_steering','is_day_night_rear_view_mirror','is_ecw','is_speed_alert','new_area_cluster','new_make','new_segment','new_model','new_fuel_type','new_engine_type','new_ncap_rating']]\n",
    "# identify target\n",
    "Y_rfel = df['is_claim']\n",
    "\n",
    "# identify classifier\n",
    "classifier = LogisticRegression(random_state = 0, penalty = 'l1', solver='liblinear')\n",
    "\n"
   ]
  },
  {
   "cell_type": "code",
   "execution_count": 8,
   "id": "538c4f79",
   "metadata": {},
   "outputs": [
    {
     "data": {
      "text/html": [
       "<style>#sk-container-id-1 {color: black;background-color: white;}#sk-container-id-1 pre{padding: 0;}#sk-container-id-1 div.sk-toggleable {background-color: white;}#sk-container-id-1 label.sk-toggleable__label {cursor: pointer;display: block;width: 100%;margin-bottom: 0;padding: 0.3em;box-sizing: border-box;text-align: center;}#sk-container-id-1 label.sk-toggleable__label-arrow:before {content: \"▸\";float: left;margin-right: 0.25em;color: #696969;}#sk-container-id-1 label.sk-toggleable__label-arrow:hover:before {color: black;}#sk-container-id-1 div.sk-estimator:hover label.sk-toggleable__label-arrow:before {color: black;}#sk-container-id-1 div.sk-toggleable__content {max-height: 0;max-width: 0;overflow: hidden;text-align: left;background-color: #f0f8ff;}#sk-container-id-1 div.sk-toggleable__content pre {margin: 0.2em;color: black;border-radius: 0.25em;background-color: #f0f8ff;}#sk-container-id-1 input.sk-toggleable__control:checked~div.sk-toggleable__content {max-height: 200px;max-width: 100%;overflow: auto;}#sk-container-id-1 input.sk-toggleable__control:checked~label.sk-toggleable__label-arrow:before {content: \"▾\";}#sk-container-id-1 div.sk-estimator input.sk-toggleable__control:checked~label.sk-toggleable__label {background-color: #d4ebff;}#sk-container-id-1 div.sk-label input.sk-toggleable__control:checked~label.sk-toggleable__label {background-color: #d4ebff;}#sk-container-id-1 input.sk-hidden--visually {border: 0;clip: rect(1px 1px 1px 1px);clip: rect(1px, 1px, 1px, 1px);height: 1px;margin: -1px;overflow: hidden;padding: 0;position: absolute;width: 1px;}#sk-container-id-1 div.sk-estimator {font-family: monospace;background-color: #f0f8ff;border: 1px dotted black;border-radius: 0.25em;box-sizing: border-box;margin-bottom: 0.5em;}#sk-container-id-1 div.sk-estimator:hover {background-color: #d4ebff;}#sk-container-id-1 div.sk-parallel-item::after {content: \"\";width: 100%;border-bottom: 1px solid gray;flex-grow: 1;}#sk-container-id-1 div.sk-label:hover label.sk-toggleable__label {background-color: #d4ebff;}#sk-container-id-1 div.sk-serial::before {content: \"\";position: absolute;border-left: 1px solid gray;box-sizing: border-box;top: 0;bottom: 0;left: 50%;z-index: 0;}#sk-container-id-1 div.sk-serial {display: flex;flex-direction: column;align-items: center;background-color: white;padding-right: 0.2em;padding-left: 0.2em;position: relative;}#sk-container-id-1 div.sk-item {position: relative;z-index: 1;}#sk-container-id-1 div.sk-parallel {display: flex;align-items: stretch;justify-content: center;background-color: white;position: relative;}#sk-container-id-1 div.sk-item::before, #sk-container-id-1 div.sk-parallel-item::before {content: \"\";position: absolute;border-left: 1px solid gray;box-sizing: border-box;top: 0;bottom: 0;left: 50%;z-index: -1;}#sk-container-id-1 div.sk-parallel-item {display: flex;flex-direction: column;z-index: 1;position: relative;background-color: white;}#sk-container-id-1 div.sk-parallel-item:first-child::after {align-self: flex-end;width: 50%;}#sk-container-id-1 div.sk-parallel-item:last-child::after {align-self: flex-start;width: 50%;}#sk-container-id-1 div.sk-parallel-item:only-child::after {width: 0;}#sk-container-id-1 div.sk-dashed-wrapped {border: 1px dashed gray;margin: 0 0.4em 0.5em 0.4em;box-sizing: border-box;padding-bottom: 0.4em;background-color: white;}#sk-container-id-1 div.sk-label label {font-family: monospace;font-weight: bold;display: inline-block;line-height: 1.2em;}#sk-container-id-1 div.sk-label-container {text-align: center;}#sk-container-id-1 div.sk-container {/* jupyter's `normalize.less` sets `[hidden] { display: none; }` but bootstrap.min.css set `[hidden] { display: none !important; }` so we also need the `!important` here to be able to override the default hidden behavior on the sphinx rendered scikit-learn.org. See: https://github.com/scikit-learn/scikit-learn/issues/21755 */display: inline-block !important;position: relative;}#sk-container-id-1 div.sk-text-repr-fallback {display: none;}</style><div id=\"sk-container-id-1\" class=\"sk-top-container\"><div class=\"sk-text-repr-fallback\"><pre>LogisticRegression(penalty=&#x27;l1&#x27;, random_state=0, solver=&#x27;liblinear&#x27;)</pre><b>In a Jupyter environment, please rerun this cell to show the HTML representation or trust the notebook. <br />On GitHub, the HTML representation is unable to render, please try loading this page with nbviewer.org.</b></div><div class=\"sk-container\" hidden><div class=\"sk-item\"><div class=\"sk-estimator sk-toggleable\"><input class=\"sk-toggleable__control sk-hidden--visually\" id=\"sk-estimator-id-1\" type=\"checkbox\" checked><label for=\"sk-estimator-id-1\" class=\"sk-toggleable__label sk-toggleable__label-arrow\">LogisticRegression</label><div class=\"sk-toggleable__content\"><pre>LogisticRegression(penalty=&#x27;l1&#x27;, random_state=0, solver=&#x27;liblinear&#x27;)</pre></div></div></div></div></div>"
      ],
      "text/plain": [
       "LogisticRegression(penalty='l1', random_state=0, solver='liblinear')"
      ]
     },
     "execution_count": 8,
     "metadata": {},
     "output_type": "execute_result"
    }
   ],
   "source": [
    "classifier.fit(X_rfel, Y_rfel)"
   ]
  },
  {
   "cell_type": "code",
   "execution_count": 9,
   "id": "81dd732c",
   "metadata": {},
   "outputs": [],
   "source": [
    "#Select best feature \n",
    "rfel = RFE(classifier, n_features_to_select = 15)\n",
    "rfel = rfel.fit(X_rfel, Y_rfel)"
   ]
  },
  {
   "cell_type": "code",
   "execution_count": 10,
   "id": "16c70138",
   "metadata": {},
   "outputs": [
    {
     "data": {
      "text/plain": [
       "Index(['policy_tenure', 'age_of_car', 'age_of_policyholder',\n",
       "       'is_parking_camera', 'displacement', 'transmission_type',\n",
       "       'turning_radius', 'width', 'height', 'is_rear_window_wiper',\n",
       "       'is_power_steering', 'is_day_night_rear_view_mirror', 'is_ecw',\n",
       "       'new_area_cluster', 'new_make'],\n",
       "      dtype='object')"
      ]
     },
     "execution_count": 10,
     "metadata": {},
     "output_type": "execute_result"
    }
   ],
   "source": [
    "X_rfel.columns[rfel.support_]"
   ]
  },
  {
   "cell_type": "code",
   "execution_count": 9,
   "id": "03306304",
   "metadata": {},
   "outputs": [
    {
     "name": "stdout",
     "output_type": "stream",
     "text": [
      "[ True  True  True False False  True False  True False  True  True  True\n",
      "  True False False  True False False  True  True  True False  True  True\n",
      " False False False False False]\n"
     ]
    }
   ],
   "source": [
    "#Summarize the selection of the attributes\n",
    "print(rfel.support_)"
   ]
  },
  {
   "cell_type": "code",
   "execution_count": 10,
   "id": "7f72ca22",
   "metadata": {},
   "outputs": [
    {
     "name": "stdout",
     "output_type": "stream",
     "text": [
      "[ True  True  True False False  True False  True False  True  True  True\n",
      "  True False False  True False False  True  True  True False  True  True\n",
      " False False False False False]\n",
      "[ 1  1  1  5  2  1  6  1 14  1  1  1  1  3 15  1  9 11  1  1  1 13  1  1\n",
      " 12 10  4  8  7]\n"
     ]
    },
    {
     "data": {
      "text/plain": [
       "Index(['policy_tenure', 'age_of_car', 'age_of_policyholder',\n",
       "       'is_parking_camera', 'displacement', 'transmission_type',\n",
       "       'turning_radius', 'width', 'height', 'is_rear_window_wiper',\n",
       "       'is_power_steering', 'is_day_night_rear_view_mirror', 'is_ecw',\n",
       "       'new_area_cluster', 'new_make'],\n",
       "      dtype='object')"
      ]
     },
     "execution_count": 10,
     "metadata": {},
     "output_type": "execute_result"
    }
   ],
   "source": [
    "#Summarize the selection of the attributes\n",
    "print(rfel.support_)\n",
    "print(rfel.ranking_)\n",
    "X_rfel.columns[rfel.support_]"
   ]
  },
  {
   "cell_type": "code",
   "execution_count": null,
   "id": "43dd5a80",
   "metadata": {},
   "outputs": [],
   "source": []
  },
  {
   "cell_type": "code",
   "execution_count": null,
   "id": "70e8ca32",
   "metadata": {},
   "outputs": [],
   "source": []
  },
  {
   "cell_type": "code",
   "execution_count": null,
   "id": "bc2bd4c3",
   "metadata": {},
   "outputs": [],
   "source": []
  },
  {
   "cell_type": "markdown",
   "id": "85a17bf2",
   "metadata": {},
   "source": [
    "## Filter Method"
   ]
  },
  {
   "cell_type": "code",
   "execution_count": null,
   "id": "a8e74352",
   "metadata": {},
   "outputs": [],
   "source": [
    "# retreive information gain for each variable by calculating reduction in entropy\n",
    "\n",
    "from sklearn.feature_selection import mutual_info_classif\n",
    "import matplotlib.pyplot as plt\n",
    "\n",
    "# identify features\n",
    "X_importance = df[['policy_tenure', 'age_of_car', 'age_of_policyholder', 'population_density', 'is_tpms', 'is_parking_camera', 'rear_brakes_type', 'displacement', 'cylinder',\n",
    "                   'transmission_type', 'turning_radius', 'width', 'height', 'gross_weight', 'is_front_fog_lights','is_rear_window_wiper','is_rear_window_defogger','is_brake_assist',\n",
    "                   'is_power_steering','is_day_night_rear_view_mirror','is_ecw','is_speed_alert','new_area_cluster','new_make','new_segment','new_model','new_fuel_type',\n",
    "                   'new_engine_type','new_ncap_rating']]\n",
    "# identify target\n",
    "Y_importance = df['is_claim']\n",
    "\n",
    "\n",
    "\n",
    "importance = mutual_info_classif(X_importance, Y_importance)\n",
    "importance\n",
    "feat_importance = pd.Series(importance, df.columns[0:len(df.columns)-1])\n",
    "#feat_importance.plot(kind = 'barh', color = 'purple')\n",
    "feat_importance\n",
    "#plt.show()\n"
   ]
  },
  {
   "cell_type": "code",
   "execution_count": null,
   "id": "347e5c1e",
   "metadata": {},
   "outputs": [],
   "source": []
  },
  {
   "cell_type": "markdown",
   "id": "d2ac4922",
   "metadata": {},
   "source": [
    "## Chi Sqaure"
   ]
  },
  {
   "cell_type": "code",
   "execution_count": null,
   "id": "68fd7536",
   "metadata": {},
   "outputs": [],
   "source": [
    "# use SlectKBest to select 8 most relevant\n",
    "# remove cons.conf.idx because it contains negative values\n",
    "\n",
    "from sklearn.feature_selection import SelectKBest\n",
    "from sklearn.feature_selection import chi2\n",
    "\n",
    "# identify features\n",
    "X_SelectBest = df[['policy_tenure', 'age_of_car', 'age_of_policyholder', 'population_density', 'is_tpms', 'is_parking_camera', 'rear_brakes_type', 'displacement', 'cylinder',\n",
    "                   'transmission_type', 'turning_radius', 'width', 'height', 'gross_weight', 'is_front_fog_lights','is_rear_window_wiper','is_rear_window_defogger','is_brake_assist','is_power_steering','is_day_night_rear_view_mirror','is_ecw','is_speed_alert','new_area_cluster','new_make','new_segment','new_model','new_fuel_type','new_engine_type','new_ncap_rating']]\n",
    "# identify target\n",
    "Y_SelectBest = df['is_claim']\n",
    "\n",
    "# extract features\n",
    "selector = SelectKBest(chi2, k=15)\n",
    "selector.fit(X_SelectBest, Y_SelectBest)\n",
    "\n",
    "# create new df\n",
    "X_SelectBest_new = selector.transform(X_SelectBest)\n",
    "X_SelectBest.columns[selector.get_support(indices=True)]\n",
    "\n",
    "# print list of most relevant features\n",
    "feature_names = list(X_SelectBest.columns[selector.get_support(indices=True)])\n",
    "print(feature_names)\n"
   ]
  },
  {
   "cell_type": "code",
   "execution_count": null,
   "id": "827ed635",
   "metadata": {},
   "outputs": [],
   "source": []
  }
 ],
 "metadata": {
  "kernelspec": {
   "display_name": "Python 3 (ipykernel)",
   "language": "python",
   "name": "python3"
  },
  "language_info": {
   "codemirror_mode": {
    "name": "ipython",
    "version": 3
   },
   "file_extension": ".py",
   "mimetype": "text/x-python",
   "name": "python",
   "nbconvert_exporter": "python",
   "pygments_lexer": "ipython3",
   "version": "3.9.7"
  }
 },
 "nbformat": 4,
 "nbformat_minor": 5
}
